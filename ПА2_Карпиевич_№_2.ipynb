{
  "nbformat": 4,
  "nbformat_minor": 0,
  "metadata": {
    "colab": {
      "provenance": []
    },
    "kernelspec": {
      "name": "python3",
      "display_name": "Python 3"
    },
    "language_info": {
      "name": "python"
    }
  },
  "cells": [
    {
      "cell_type": "code",
      "execution_count": 54,
      "metadata": {
        "colab": {
          "base_uri": "https://localhost:8080/"
        },
        "id": "gwBipyq8uOQ5",
        "outputId": "492fb5bc-9577-4557-a150-ede1ee379014"
      },
      "outputs": [
        {
          "output_type": "stream",
          "name": "stdout",
          "text": [
            "[[4 1 1]\n",
            " [6 2 2]\n",
            " [3 0 6]]\n",
            "\n",
            "          Precision Recall    F1-Score  Support   \n",
            "\n",
            "Cat       0.308     0.667     0.421     6         \n",
            "Fish      0.667     0.200     0.308     10        \n",
            "Hen       0.667     0.667     0.667     9         \n",
            "\n",
            "  Accuracy                    0.480     25\n",
            "Macro Avg 0.547     0.511     0.465     25\n",
            "W-ted Avg 0.581     0.480     0.464     25\n"
          ]
        }
      ],
      "source": [
        "import numpy as np\n",
        "\n",
        "# Истинные значения и предсказанные значения\n",
        "y_true = [\"Cat\", \"Cat\", \"Cat\", \"Cat\", \"Cat\", \"Cat\", \"Fish\", \"Fish\", \"Fish\",\n",
        "          \"Fish\", \"Fish\", \"Fish\", \"Fish\", \"Fish\", \"Fish\", \"Fish\", \"Hen\", \"Hen\",\n",
        "          \"Hen\", \"Hen\", \"Hen\", \"Hen\", \"Hen\", \"Hen\", \"Hen\"]\n",
        "y_pred = [\"Cat\", \"Cat\", \"Cat\", \"Cat\", \"Hen\", \"Fish\", \"Cat\", \"Cat\", \"Cat\", \"Cat\",\n",
        "          \"Cat\", \"Cat\", \"Hen\", \"Hen\", \"Fish\", \"Fish\", \"Cat\", \"Cat\", \"Cat\", \"Hen\",\n",
        "          \"Hen\", \"Hen\", \"Hen\", \"Hen\", \"Hen\"]\n",
        "\n",
        "# Создаем список уникальных классов\n",
        "classes = [\"Cat\", \"Fish\", \"Hen\"]\n",
        "\n",
        "# Инициализируем матрицу confusion нулями (чтобы привезти к виду вывода из\n",
        "# задания, принудительно указываем int тип для данных в матрице)\n",
        "confusion_matrix = np.zeros((len(classes), len(classes)), dtype=int)\n",
        "\n",
        "# Заполняем матрицу confusion\n",
        "for true, pred in zip(y_true, y_pred):\n",
        "    true_idx = classes.index(true)\n",
        "    pred_idx = classes.index(pred)\n",
        "    confusion_matrix[true_idx][pred_idx] += 1\n",
        "\n",
        "# Выводим матрицу confusion\n",
        "print(confusion_matrix)\n",
        "\n",
        "# Вычисляем метрики precision, recall и f1-score для каждого класса\n",
        "precision = np.zeros(len(classes))\n",
        "recall = np.zeros(len(classes))\n",
        "f1_score = np.zeros(len(classes))\n",
        "support = np.zeros(len(classes))\n",
        "\n",
        "for i in range(len(classes)):\n",
        "    true_positives = confusion_matrix[i, i]\n",
        "    false_positives = np.sum(confusion_matrix[:, i]) - true_positives\n",
        "    false_negatives = np.sum(confusion_matrix[i, :]) - true_positives\n",
        "\n",
        "    precision[i] = true_positives / (true_positives + false_positives)\n",
        "    recall[i] = true_positives / (true_positives + false_negatives)\n",
        "    f1_score[i] = 2 * (precision[i] * recall[i]) / (precision[i] + recall[i])\n",
        "    support[i] = np.sum(confusion_matrix[i, :])\n",
        "\n",
        "# Вычисляем accuracy и метрики для всего набора данных\n",
        "accuracy = np.sum(np.diag(confusion_matrix)) / np.sum(confusion_matrix)\n",
        "macro_avg_precision = np.mean(precision)\n",
        "macro_avg_recall = np.mean(recall)\n",
        "macro_avg_f1_score = np.mean(f1_score)\n",
        "\n",
        "weighted_avg_precision = np.sum(precision * support) / np.sum(support)\n",
        "weighted_avg_recall = np.sum(recall * support) / np.sum(support)\n",
        "weighted_avg_f1_score = np.sum(f1_score * support) / np.sum(support)\n",
        "\n",
        "# Выводим метрики для каждого класса\n",
        "print(f\"\\n{'':<10}{'Precision':<10}{'Recall':<10}{'F1-Score':<10}{'Support':<10}\\n\")\n",
        "for i, class_name in enumerate(classes):\n",
        "    print(f\"{class_name:<10}{precision[i]:<10.3f}{recall[i]:<10.3f}{f1_score[i]:<10.3f}{int(support[i]):<10}\")\n",
        "\n",
        "# Вычисляем accuracy и метрики для всего набора данных\n",
        "accuracy = np.sum(np.diag(confusion_matrix)) / np.sum(confusion_matrix)\n",
        "macro_avg_precision = np.mean(precision)\n",
        "macro_avg_recall = np.mean(recall)\n",
        "macro_avg_f1_score = np.mean(f1_score)\n",
        "\n",
        "weighted_avg_precision = np.sum(precision * support) / np.sum(support)\n",
        "weighted_avg_recall = np.sum(recall * support) / np.sum(support)\n",
        "weighted_avg_f1_score = np.sum(f1_score * support) / np.sum(support)\n",
        "\n",
        "# Выводим метрики для каждого класса и общие метрики\n",
        "print(f\"\\n{'Accuracy':<10}{accuracy:>25.3f}{int(np.sum(support)):7}\")\n",
        "print(f\"{'Macro Avg':<10}{macro_avg_precision:.3f}{macro_avg_recall:10.3f}{macro_avg_f1_score:10.3f}{int(np.sum(support)):7}\")\n",
        "print(f\"{'W-ted Avg':<10}{weighted_avg_precision:.3f}{weighted_avg_recall:10.3f}{weighted_avg_f1_score:10.3f}{int(np.sum(support)):7}\")"
      ]
    }
  ]
}