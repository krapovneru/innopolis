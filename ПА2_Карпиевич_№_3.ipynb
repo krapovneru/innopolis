{
  "nbformat": 4,
  "nbformat_minor": 0,
  "metadata": {
    "colab": {
      "provenance": []
    },
    "kernelspec": {
      "name": "python3",
      "display_name": "Python 3"
    },
    "language_info": {
      "name": "python"
    }
  },
  "cells": [
    {
      "cell_type": "code",
      "source": [
        "import pandas as pd\n",
        "from sklearn.model_selection import train_test_split\n",
        "from sklearn.linear_model import LinearRegression\n",
        "from sklearn.linear_model import LogisticRegression\n",
        "from sklearn.metrics import accuracy_score\n",
        "from sklearn.metrics import r2_score"
      ],
      "metadata": {
        "id": "miNHnyFkCBpb"
      },
      "execution_count": 82,
      "outputs": []
    },
    {
      "cell_type": "markdown",
      "source": [
        "**Подготовка данных**"
      ],
      "metadata": {
        "id": "u7q3wB4hICZR"
      }
    },
    {
      "cell_type": "code",
      "source": [
        "data = pd.read_csv(\"Titanic.csv\")\n",
        "data.head()"
      ],
      "metadata": {
        "id": "3uDt_hw7CM4e"
      },
      "execution_count": null,
      "outputs": []
    },
    {
      "cell_type": "code",
      "source": [
        "# Разделение данных на признаки (X) и целевую переменную (y)\n",
        "X = data.drop('Survived', axis=1)  # Удаляем столбец 'Survived' из признаков\n",
        "y = data['Survived']  # Целевая переменная\n",
        "\n",
        "# Разделение данных на обучающий и тестовый наборы (80% для обучения, 20% для тестирования)\n",
        "X_train, X_test, y_train, y_test = train_test_split(X, y, test_size=0.2, random_state=42)\n",
        "\n",
        "# X_train содержит обучающие признаки\n",
        "# y_train содержит соответствующие обучающие метки (выжил или нет)\n",
        "\n",
        "# X_test содержит тестовые признаки\n",
        "# y_test содержит соответствующие тестовые метки для оценки модели"
      ],
      "metadata": {
        "id": "hbAH-znZCNpF"
      },
      "execution_count": 58,
      "outputs": []
    },
    {
      "cell_type": "code",
      "source": [
        "# Выбор нужных признаков для тестового и обучающего наборов данных\n",
        "X_test = X_test[['Age', 'Pclass', 'Sex']]\n",
        "X_train = X_train[['Age', 'Pclass', 'Sex']]"
      ],
      "metadata": {
        "id": "wSYfzDblCXWK"
      },
      "execution_count": 59,
      "outputs": []
    },
    {
      "cell_type": "code",
      "source": [
        "# Кодирования категориального признака \"Sex\"\n",
        "X_train_encoded = pd.get_dummies(X_train, columns=['Sex'])\n",
        "X_test_encoded = pd.get_dummies(X_test, columns=['Sex'])"
      ],
      "metadata": {
        "id": "KDm3M-MjDZtm"
      },
      "execution_count": 60,
      "outputs": []
    },
    {
      "cell_type": "code",
      "source": [
        "# Заполнение пропущенных значений для числового признака \"Age\" средним значением\n",
        "X_train_encoded['Age'].fillna(X_train_encoded['Age'].mean(), inplace=True)\n",
        "X_test_encoded['Age'].fillna(X_test_encoded['Age'].mean(), inplace=True)"
      ],
      "metadata": {
        "id": "em4FT2_yCmgF"
      },
      "execution_count": 61,
      "outputs": []
    },
    {
      "cell_type": "markdown",
      "source": [
        "**Обучение модели и оценка точности**"
      ],
      "metadata": {
        "id": "_GVAfWoqIFBL"
      }
    },
    {
      "cell_type": "code",
      "source": [
        "model = LogisticRegression()\n",
        "model.fit(X_train_encoded, y_train)"
      ],
      "metadata": {
        "colab": {
          "base_uri": "https://localhost:8080/",
          "height": 75
        },
        "id": "1bI_Ao06D0T8",
        "outputId": "760a406d-3192-4bbd-e1c5-2296da7c9d75"
      },
      "execution_count": 83,
      "outputs": [
        {
          "output_type": "execute_result",
          "data": {
            "text/plain": [
              "LogisticRegression()"
            ],
            "text/html": [
              "<style>#sk-container-id-5 {color: black;background-color: white;}#sk-container-id-5 pre{padding: 0;}#sk-container-id-5 div.sk-toggleable {background-color: white;}#sk-container-id-5 label.sk-toggleable__label {cursor: pointer;display: block;width: 100%;margin-bottom: 0;padding: 0.3em;box-sizing: border-box;text-align: center;}#sk-container-id-5 label.sk-toggleable__label-arrow:before {content: \"▸\";float: left;margin-right: 0.25em;color: #696969;}#sk-container-id-5 label.sk-toggleable__label-arrow:hover:before {color: black;}#sk-container-id-5 div.sk-estimator:hover label.sk-toggleable__label-arrow:before {color: black;}#sk-container-id-5 div.sk-toggleable__content {max-height: 0;max-width: 0;overflow: hidden;text-align: left;background-color: #f0f8ff;}#sk-container-id-5 div.sk-toggleable__content pre {margin: 0.2em;color: black;border-radius: 0.25em;background-color: #f0f8ff;}#sk-container-id-5 input.sk-toggleable__control:checked~div.sk-toggleable__content {max-height: 200px;max-width: 100%;overflow: auto;}#sk-container-id-5 input.sk-toggleable__control:checked~label.sk-toggleable__label-arrow:before {content: \"▾\";}#sk-container-id-5 div.sk-estimator input.sk-toggleable__control:checked~label.sk-toggleable__label {background-color: #d4ebff;}#sk-container-id-5 div.sk-label input.sk-toggleable__control:checked~label.sk-toggleable__label {background-color: #d4ebff;}#sk-container-id-5 input.sk-hidden--visually {border: 0;clip: rect(1px 1px 1px 1px);clip: rect(1px, 1px, 1px, 1px);height: 1px;margin: -1px;overflow: hidden;padding: 0;position: absolute;width: 1px;}#sk-container-id-5 div.sk-estimator {font-family: monospace;background-color: #f0f8ff;border: 1px dotted black;border-radius: 0.25em;box-sizing: border-box;margin-bottom: 0.5em;}#sk-container-id-5 div.sk-estimator:hover {background-color: #d4ebff;}#sk-container-id-5 div.sk-parallel-item::after {content: \"\";width: 100%;border-bottom: 1px solid gray;flex-grow: 1;}#sk-container-id-5 div.sk-label:hover label.sk-toggleable__label {background-color: #d4ebff;}#sk-container-id-5 div.sk-serial::before {content: \"\";position: absolute;border-left: 1px solid gray;box-sizing: border-box;top: 0;bottom: 0;left: 50%;z-index: 0;}#sk-container-id-5 div.sk-serial {display: flex;flex-direction: column;align-items: center;background-color: white;padding-right: 0.2em;padding-left: 0.2em;position: relative;}#sk-container-id-5 div.sk-item {position: relative;z-index: 1;}#sk-container-id-5 div.sk-parallel {display: flex;align-items: stretch;justify-content: center;background-color: white;position: relative;}#sk-container-id-5 div.sk-item::before, #sk-container-id-5 div.sk-parallel-item::before {content: \"\";position: absolute;border-left: 1px solid gray;box-sizing: border-box;top: 0;bottom: 0;left: 50%;z-index: -1;}#sk-container-id-5 div.sk-parallel-item {display: flex;flex-direction: column;z-index: 1;position: relative;background-color: white;}#sk-container-id-5 div.sk-parallel-item:first-child::after {align-self: flex-end;width: 50%;}#sk-container-id-5 div.sk-parallel-item:last-child::after {align-self: flex-start;width: 50%;}#sk-container-id-5 div.sk-parallel-item:only-child::after {width: 0;}#sk-container-id-5 div.sk-dashed-wrapped {border: 1px dashed gray;margin: 0 0.4em 0.5em 0.4em;box-sizing: border-box;padding-bottom: 0.4em;background-color: white;}#sk-container-id-5 div.sk-label label {font-family: monospace;font-weight: bold;display: inline-block;line-height: 1.2em;}#sk-container-id-5 div.sk-label-container {text-align: center;}#sk-container-id-5 div.sk-container {/* jupyter's `normalize.less` sets `[hidden] { display: none; }` but bootstrap.min.css set `[hidden] { display: none !important; }` so we also need the `!important` here to be able to override the default hidden behavior on the sphinx rendered scikit-learn.org. See: https://github.com/scikit-learn/scikit-learn/issues/21755 */display: inline-block !important;position: relative;}#sk-container-id-5 div.sk-text-repr-fallback {display: none;}</style><div id=\"sk-container-id-5\" class=\"sk-top-container\"><div class=\"sk-text-repr-fallback\"><pre>LogisticRegression()</pre><b>In a Jupyter environment, please rerun this cell to show the HTML representation or trust the notebook. <br />On GitHub, the HTML representation is unable to render, please try loading this page with nbviewer.org.</b></div><div class=\"sk-container\" hidden><div class=\"sk-item\"><div class=\"sk-estimator sk-toggleable\"><input class=\"sk-toggleable__control sk-hidden--visually\" id=\"sk-estimator-id-5\" type=\"checkbox\" checked><label for=\"sk-estimator-id-5\" class=\"sk-toggleable__label sk-toggleable__label-arrow\">LogisticRegression</label><div class=\"sk-toggleable__content\"><pre>LogisticRegression()</pre></div></div></div></div></div>"
            ]
          },
          "metadata": {},
          "execution_count": 83
        }
      ]
    },
    {
      "cell_type": "code",
      "source": [
        "y_train_pred = model.predict(X_train_encoded)\n",
        "y_test_pred = model.predict(X_test_encoded)"
      ],
      "metadata": {
        "id": "nY9W37l-DJDo"
      },
      "execution_count": 84,
      "outputs": []
    },
    {
      "cell_type": "code",
      "source": [
        "# Точность на обучающем наборе данных\n",
        "accuracy_train = accuracy_score(y_train, y_train_pred)\n",
        "print(\"Точность на тренировочном наборе данных:\", accuracy_train)\n",
        "\n",
        "# Точность на тестовом наборе данных\n",
        "accuracy_test = accuracy_score(y_test, y_test_pred)\n",
        "print(\"Точность на тестовом наборе данных:\", accuracy_test)"
      ],
      "metadata": {
        "colab": {
          "base_uri": "https://localhost:8080/"
        },
        "id": "1I7Z0mluDL_d",
        "outputId": "3a62b112-641d-4d17-8c22-c91993e70726"
      },
      "execution_count": 85,
      "outputs": [
        {
          "output_type": "stream",
          "name": "stdout",
          "text": [
            "Точность на тренировочном наборе данных: 0.7907303370786517\n",
            "Точность на тестовом наборе данных: 0.8100558659217877\n"
          ]
        }
      ]
    },
    {
      "cell_type": "markdown",
      "source": [
        "**Вычисление R^2 для каждого из параметров**"
      ],
      "metadata": {
        "id": "i_AhOWNvHsht"
      }
    },
    {
      "cell_type": "code",
      "source": [
        "# Для параметра \"Sex\"\n",
        "model_sex = LinearRegression()\n",
        "model_sex.fit(X_train_encoded[['Sex_female', 'Sex_male']], y_train)\n",
        "y_sex_pred = model_sex.predict(X_test_encoded[['Sex_female', 'Sex_male']])\n",
        "r2_sex = r2_score(y_test, y_sex_pred)\n",
        "\n",
        "# Для параметра \"Pclass\"\n",
        "model_pclass = LinearRegression()\n",
        "model_pclass.fit(X_train_encoded[['Pclass']], y_train)\n",
        "y_pclass_pred = model_pclass.predict(X_test_encoded[['Pclass']])\n",
        "r2_pclass = r2_score(y_test, y_pclass_pred)\n",
        "\n",
        "# Для параметра \"Age\"\n",
        "model_age = LinearRegression()\n",
        "model_age.fit(X_train_encoded[['Age']], y_train)\n",
        "y_age_pred = model_age.predict(X_test_encoded[['Age']])\n",
        "r2_age = r2_score(y_test, y_age_pred)\n",
        "\n",
        "# R^2 для всех параметров\n",
        "print(\"R^2 для переменной 'Sex':\", r2_sex)\n",
        "print(\"R^2 для переменной 'Pclass':\", r2_pclass)\n",
        "print(\"R^2 для переменной 'Age':\", r2_age)"
      ],
      "metadata": {
        "colab": {
          "base_uri": "https://localhost:8080/"
        },
        "id": "EOq-IbeTGeIo",
        "outputId": "2c751ceb-cb5e-4254-f41c-96663cec2fa2"
      },
      "execution_count": 78,
      "outputs": [
        {
          "output_type": "stream",
          "name": "stdout",
          "text": [
            "R^2 для переменной 'Sex': 0.29820907818611364\n",
            "R^2 для переменной 'Pclass': 0.15199185850603114\n",
            "R^2 для переменной 'Age': 0.004888855615906018\n"
          ]
        }
      ]
    }
  ]
}