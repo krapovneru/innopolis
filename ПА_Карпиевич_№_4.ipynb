{
  "cells": [
    {
      "cell_type": "markdown",
      "metadata": {
        "id": "4Z1Rr8LFMcrs"
      },
      "source": [
        "# Промежуточная аттестация по сетям искусcтвенных нейронов.\n",
        "## Задание\n",
        "\n",
        "**Ваша задача - создать классификатор изображений с помощью Keras и сверточных нейронных сетей для набора данных Fashion MNIST. Этот набор данных включает 10 меток с разными типами одежды с изображениями 28 на 28 * в оттенках серого *. Имеется обучающий набор из 60 000 изображений и 10 000 тестовых изображений.**\n",
        "\n",
        "Описание классов\n",
        "\n",
        "    Label\tDescription\n",
        "    0\t    T-shirt/top\n",
        "    1\t    Trouser\n",
        "    2\t    Pullover\n",
        "    3\t    Dress\n",
        "    4\t    Coat\n",
        "    5\t    Sandal\n",
        "    6\t    Shirt\n",
        "    7\t    Sneaker\n",
        "    8\t    Bag\n",
        "    9\t    Ankle boot\n",
        "    \n",
        ""
      ]
    },
    {
      "cell_type": "markdown",
      "metadata": {
        "id": "IjQZ0ueJMcr2"
      },
      "source": [
        "## Данные\n",
        "\n",
        "**Загружаем данные**"
      ]
    },
    {
      "cell_type": "code",
      "source": [
        "import numpy as np\n",
        "from keras.datasets import fashion_mnist\n",
        "from keras.utils import to_categorical\n",
        "from keras.models import Sequential\n",
        "from keras.layers import Conv2D, MaxPooling2D, Flatten, Dense, Dropout\n",
        "from keras.optimizers import Adam\n",
        "from sklearn.metrics import classification_report"
      ],
      "metadata": {
        "id": "OpzCExXPNFJj"
      },
      "execution_count": 166,
      "outputs": []
    },
    {
      "cell_type": "code",
      "execution_count": 167,
      "metadata": {
        "id": "E2xpPpq0Mcr2"
      },
      "outputs": [],
      "source": [
        "(x_train, y_train), (x_test, y_test) = fashion_mnist.load_data()"
      ]
    },
    {
      "cell_type": "markdown",
      "metadata": {
        "id": "whWlRhKBMcr4"
      },
      "source": [
        "## Визаулизация датасета\n",
        "\n",
        "**Используйте matplotlib чтобы показать пример картинки.**"
      ]
    },
    {
      "cell_type": "code",
      "execution_count": 168,
      "metadata": {
        "id": "ON-r3M4sMcr4"
      },
      "outputs": [],
      "source": [
        "import matplotlib.pyplot as plt"
      ]
    },
    {
      "cell_type": "code",
      "execution_count": 169,
      "metadata": {
        "id": "fwAAQ4UNMcr4"
      },
      "outputs": [],
      "source": [
        "index = 255"
      ]
    },
    {
      "cell_type": "code",
      "execution_count": 170,
      "metadata": {
        "colab": {
          "base_uri": "https://localhost:8080/",
          "height": 452
        },
        "id": "oOY9FvwuMcr4",
        "outputId": "298a6910-d6e0-4634-d5d8-bb236a93dfcd"
      },
      "outputs": [
        {
          "output_type": "display_data",
          "data": {
            "text/plain": [
              "<Figure size 640x480 with 1 Axes>"
            ],
            "image/png": "[encoded data removed]"
          },
          "metadata": {}
        }
      ],
      "source": [
        "plt.imshow(x_train[index], cmap='viridis')\n",
        "plt.title(f'Label: {y_train[index]}')\n",
        "plt.show()"
      ]
    },
    {
      "cell_type": "markdown",
      "metadata": {
        "id": "vFAxt0MCMcr5"
      },
      "source": [
        "## Предобработка\n",
        "\n",
        "**Нормализуйте данные x_train и x_test **"
      ]
    },
    {
      "cell_type": "code",
      "execution_count": 171,
      "metadata": {
        "id": "Hufnwm-WMcr6"
      },
      "outputs": [],
      "source": [
        "x_train = x_train.astype('float32') / 255.0\n",
        "x_test = x_test.astype('float32') / 255.0"
      ]
    },
    {
      "cell_type": "code",
      "execution_count": 172,
      "metadata": {
        "id": "9Yesv9-bMcr6"
      },
      "outputs": [],
      "source": [
        "x_train = x_train.reshape(-1, 28, 28, 1)\n",
        "x_test = x_test.reshape(-1, 28, 28, 1)"
      ]
    },
    {
      "cell_type": "markdown",
      "metadata": {
        "id": "blVvIDDpMcr6"
      },
      "source": [
        "**Измените форму массивов x_train и x_test так, чтобы они стали 4-мерными**\n",
        "batch_size x channels x H x W"
      ]
    },
    {
      "cell_type": "code",
      "execution_count": 172,
      "metadata": {
        "id": "zf62MvnuMcr7"
      },
      "outputs": [],
      "source": []
    },
    {
      "cell_type": "markdown",
      "metadata": {
        "id": "rg_EG9Z_Mcr7"
      },
      "source": [
        "**Преобразуйте  y_train и y_test в one_hot представления **"
      ]
    },
    {
      "cell_type": "code",
      "execution_count": 173,
      "metadata": {
        "id": "lcAX9_w0Mcr8"
      },
      "outputs": [],
      "source": [
        "y_train = to_categorical(y_train, 10)\n",
        "y_test = to_categorical(y_test, 10)"
      ]
    },
    {
      "cell_type": "markdown",
      "metadata": {
        "id": "sru1DaiCMcr8"
      },
      "source": [
        "## Создайте модель\n",
        "\n",
        "**Примерная структура модели. При выполнении задания вы можете поэкспериментировать со слоями**\n",
        "\n",
        "* Сверточный слой, 32 фильтра, размер ядра=(4,4)\n",
        "* Пулинг с pool_size = (2,2)\n",
        "\n",
        "* Выпрямляющий слой (Flatten)\n",
        "* Полносвязный слой (например 128 нейронов), RELU\n",
        "\n",
        "* Выходной полносвязный слой с 10 нейронами с softmax\n",
        "\n",
        "**При компиляции укажите loss='categorical_crossentropy', optimizer='rmsprop', metrics=['accuracy']**"
      ]
    },
    {
      "cell_type": "markdown",
      "source": [
        "Попробуем улучшить модель, добавив больше слоев, больше фильтров, регуляризацию и оптимизатор Adam."
      ],
      "metadata": {
        "id": "H5BZDqaPXAUV"
      }
    },
    {
      "cell_type": "code",
      "execution_count": 174,
      "metadata": {
        "id": "uGGiogexMcr8"
      },
      "outputs": [],
      "source": [
        "model = Sequential()\n",
        "model.add(Conv2D(32, kernel_size=(4, 4), activation='relu', input_shape=(28, 28, 1)))\n",
        "model.add(MaxPooling2D(pool_size=(2, 2)))\n",
        "model.add(Conv2D(128, kernel_size=(3, 3), activation='relu'))\n",
        "model.add(MaxPooling2D(pool_size=(2, 2)))\n",
        "model.add(Flatten())\n",
        "model.add(Dense(256, activation='relu'))\n",
        "model.add(Dropout(0.5))\n",
        "model.add(Dense(128, activation='relu'))\n",
        "model.add(Dropout(0.5))\n",
        "model.add(Dense(10, activation='softmax'))"
      ]
    },
    {
      "cell_type": "code",
      "source": [
        "optimizer = Adam(learning_rate=0.001)\n",
        "model.compile(loss='categorical_crossentropy', optimizer=optimizer, metrics=['accuracy'])"
      ],
      "metadata": {
        "id": "WeCN3JVCWP5y"
      },
      "execution_count": 175,
      "outputs": []
    },
    {
      "cell_type": "code",
      "source": [
        "# Извлечение весов первого сверточного слоя до обучения\n",
        "weights_before_training = model.layers[0].get_weights()[0]\n",
        "\n",
        "plt.figure(figsize=(10, 5))\n",
        "for i in range(32):\n",
        "    ax = plt.subplot(4, 8, i + 1)\n",
        "    plt.imshow(weights_before_training[:, :, 0, i], cmap='viridis')\n",
        "    plt.axis('off')\n",
        "\n",
        "plt.suptitle('Фильтры до обучения')\n",
        "plt.show()"
      ],
      "metadata": {
        "colab": {
          "base_uri": "https://localhost:8080/",
          "height": 471
        },
        "id": "JFG6H5q5ZtxE",
        "outputId": "ca492140-fca4-4217-b0b7-2ad6b12bd54c"
      },
      "execution_count": 176,
      "outputs": [
        {
          "output_type": "display_data",
          "data": {
            "text/plain": [
              "<Figure size 1000x500 with 32 Axes>"
            ],
            "image/png": "[encoded data removed]"
          },
          "metadata": {}
        }
      ]
    },
    {
      "cell_type": "markdown",
      "metadata": {
        "id": "ysv6vvVeMcr9"
      },
      "source": [
        "### Тренировка модели\n",
        "**Тренируем модель на x_train. Число эпох выберите самостоятельно**"
      ]
    },
    {
      "cell_type": "code",
      "execution_count": 177,
      "metadata": {
        "colab": {
          "base_uri": "https://localhost:8080/"
        },
        "id": "K_JgCVGWMcr_",
        "outputId": "d7be8545-0a97-4b41-d0d6-6b49a663dff4"
      },
      "outputs": [
        {
          "output_type": "stream",
          "name": "stdout",
          "text": [
            "Epoch 1/10\n",
            "750/750 [==============================] - 6s 5ms/step - loss: 0.6869 - accuracy: 0.7528 - val_loss: 0.3996 - val_accuracy: 0.8483\n",
            "Epoch 2/10\n",
            "750/750 [==============================] - 4s 5ms/step - loss: 0.4105 - accuracy: 0.8560 - val_loss: 0.3255 - val_accuracy: 0.8759\n",
            "Epoch 3/10\n",
            "750/750 [==============================] - 4s 6ms/step - loss: 0.3437 - accuracy: 0.8788 - val_loss: 0.2855 - val_accuracy: 0.8923\n",
            "Epoch 4/10\n",
            "750/750 [==============================] - 3s 5ms/step - loss: 0.3051 - accuracy: 0.8915 - val_loss: 0.2744 - val_accuracy: 0.8978\n",
            "Epoch 5/10\n",
            "750/750 [==============================] - 4s 5ms/step - loss: 0.2749 - accuracy: 0.9028 - val_loss: 0.2646 - val_accuracy: 0.9039\n",
            "Epoch 6/10\n",
            "750/750 [==============================] - 4s 6ms/step - loss: 0.2594 - accuracy: 0.9063 - val_loss: 0.2535 - val_accuracy: 0.9072\n",
            "Epoch 7/10\n",
            "750/750 [==============================] - 4s 5ms/step - loss: 0.2382 - accuracy: 0.9146 - val_loss: 0.2432 - val_accuracy: 0.9111\n",
            "Epoch 8/10\n",
            "750/750 [==============================] - 7s 9ms/step - loss: 0.2213 - accuracy: 0.9202 - val_loss: 0.2447 - val_accuracy: 0.9125\n",
            "Epoch 9/10\n",
            "750/750 [==============================] - 5s 7ms/step - loss: 0.2110 - accuracy: 0.9241 - val_loss: 0.2301 - val_accuracy: 0.9173\n",
            "Epoch 10/10\n",
            "750/750 [==============================] - 4s 5ms/step - loss: 0.1966 - accuracy: 0.9275 - val_loss: 0.2364 - val_accuracy: 0.9156\n"
          ]
        },
        {
          "output_type": "execute_result",
          "data": {
            "text/plain": [
              "<keras.src.callbacks.History at 0x7efe16aaaad0>"
            ]
          },
          "metadata": {},
          "execution_count": 177
        }
      ],
      "source": [
        "model.fit(x_train, y_train, batch_size=64, epochs=10, validation_split=0.2)"
      ]
    },
    {
      "cell_type": "markdown",
      "metadata": {
        "id": "qoGDHUuZMcr_"
      },
      "source": [
        "### Оценка модели\n",
        "\n",
        "**Оцените модель по метрикам accuracy,precision,recall,f1-score на тестовой выборке x_test **"
      ]
    },
    {
      "cell_type": "code",
      "execution_count": 178,
      "metadata": {
        "colab": {
          "base_uri": "https://localhost:8080/"
        },
        "id": "jEiOV0VAMcsA",
        "outputId": "a45d56f1-4395-4b79-c11c-1e590fedca5e"
      },
      "outputs": [
        {
          "output_type": "stream",
          "name": "stdout",
          "text": [
            "313/313 [==============================] - 1s 2ms/step\n"
          ]
        }
      ],
      "source": [
        "y_pred = model.predict(x_test)"
      ]
    },
    {
      "cell_type": "code",
      "execution_count": 179,
      "metadata": {
        "id": "ZexGor-TMcsA"
      },
      "outputs": [],
      "source": [
        "y_true = np.argmax(y_test, axis=1)"
      ]
    },
    {
      "cell_type": "code",
      "execution_count": 180,
      "metadata": {
        "id": "2K4ysS0VMcsA"
      },
      "outputs": [],
      "source": [
        "y_pred = np.argmax(y_pred, axis=1)"
      ]
    },
    {
      "cell_type": "code",
      "execution_count": 181,
      "metadata": {
        "id": "TeK4h7dQMcsA"
      },
      "outputs": [],
      "source": [
        "report = classification_report(y_true, y_pred)"
      ]
    },
    {
      "cell_type": "code",
      "execution_count": 182,
      "metadata": {
        "colab": {
          "base_uri": "https://localhost:8080/"
        },
        "id": "wqE5OuOdMcsA",
        "outputId": "6d69dee1-240d-43a3-994b-fa856440974e"
      },
      "outputs": [
        {
          "output_type": "stream",
          "name": "stdout",
          "text": [
            "              precision    recall  f1-score   support\n",
            "\n",
            "           0       0.85      0.88      0.86      1000\n",
            "           1       1.00      0.98      0.99      1000\n",
            "           2       0.87      0.88      0.87      1000\n",
            "           3       0.91      0.92      0.92      1000\n",
            "           4       0.83      0.89      0.86      1000\n",
            "           5       0.98      0.98      0.98      1000\n",
            "           6       0.77      0.69      0.73      1000\n",
            "           7       0.96      0.97      0.96      1000\n",
            "           8       0.99      0.97      0.98      1000\n",
            "           9       0.97      0.97      0.97      1000\n",
            "\n",
            "    accuracy                           0.91     10000\n",
            "   macro avg       0.91      0.91      0.91     10000\n",
            "weighted avg       0.91      0.91      0.91     10000\n",
            "\n"
          ]
        }
      ],
      "source": [
        "print(report)"
      ]
    },
    {
      "cell_type": "markdown",
      "metadata": {
        "id": "vRVdW21wMcsB"
      },
      "source": [
        "## Дополнительно\n",
        "\n",
        "* Отрисуйте фильтры на слое Conv2D, сравните до и после обучения модели"
      ]
    },
    {
      "cell_type": "code",
      "execution_count": 184,
      "metadata": {
        "colab": {
          "base_uri": "https://localhost:8080/",
          "height": 471
        },
        "id": "pOVTiN62McsC",
        "outputId": "50b34b09-d8b5-4656-f8d1-3a18fb5e561e"
      },
      "outputs": [
        {
          "output_type": "display_data",
          "data": {
            "text/plain": [
              "<Figure size 1000x500 with 32 Axes>"
            ],
            "image/png": "[encoded data removed]"
          },
          "metadata": {}
        }
      ],
      "source": [
        "# Извлечение весов первого сверточного слоя после обучения\n",
        "weights_after_training = model.layers[0].get_weights()[0]\n",
        "\n",
        "plt.figure(figsize=(10, 5))\n",
        "for i in range(32):\n",
        "    ax = plt.subplot(4, 8, i + 1)\n",
        "    plt.imshow(weights_after_training[:, :, 0, i], cmap='viridis')\n",
        "    plt.axis('off')\n",
        "\n",
        "plt.suptitle('Фильтры после обучения')\n",
        "plt.show()"
      ]
    }
  ],
  "metadata": {
    "kernelspec": {
      "display_name": "Python 3",
      "name": "python3"
    },
    "language_info": {
      "codemirror_mode": {
        "name": "ipython",
        "version": 3
      },
      "file_extension": ".py",
      "mimetype": "text/x-python",
      "name": "python",
      "nbconvert_exporter": "python",
      "pygments_lexer": "ipython3",
      "version": "3.7.12"
    },
    "colab": {
      "provenance": [],
      "gpuType": "T4"
    },
    "accelerator": "GPU"
  },
  "nbformat": 4,
  "nbformat_minor": 0
}